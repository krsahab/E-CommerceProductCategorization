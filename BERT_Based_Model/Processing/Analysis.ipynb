{
  "cells": [
    {
      "cell_type": "code",
      "execution_count": null,
      "metadata": {
        "colab": {
          "base_uri": "https://localhost:8080/"
        },
        "id": "kvIQkV-mCwZP",
        "outputId": "41dd5348-0932-4db2-9478-4036e60456a9"
      },
      "outputs": [],
      "source": [
        "!pip install contractions\n",
        "!pip install unidecode"
      ]
    },
    {
      "cell_type": "code",
      "execution_count": null,
      "metadata": {
        "id": "1fhCRFgRDO0r"
      },
      "outputs": [],
      "source": [
        "import os\n",
        "root_path = '/content/drive/MyDrive/Contest/Amazon/Data/dataset'\n",
        "os.chdir(root_path)"
      ]
    },
    {
      "cell_type": "code",
      "execution_count": null,
      "metadata": {
        "id": "k-bowtdmEMMZ"
      },
      "outputs": [],
      "source": [
        "import gc\n",
        "import csv\n",
        "import nltk\n",
        "import pickle\n",
        "import pandas as pd\n",
        "#import contractions\n",
        "#import unidecode\n",
        "from nltk.corpus import stopwords\n",
        "from nltk.tokenize import word_tokenize\n",
        "from nltk.stem import WordNetLemmatizer\n",
        "from sklearn.feature_extraction.text import CountVectorizer\n",
        "from sklearn.preprocessing import LabelBinarizer"
      ]
    },
    {
      "cell_type": "code",
      "execution_count": null,
      "metadata": {
        "colab": {
          "base_uri": "https://localhost:8080/"
        },
        "id": "-RGrsawxcjMf",
        "outputId": "ab7928f9-8a80-4c17-9278-71099129d32f"
      },
      "outputs": [],
      "source": [
        "nltk.download('words')"
      ]
    },
    {
      "cell_type": "code",
      "execution_count": null,
      "metadata": {
        "colab": {
          "base_uri": "https://localhost:8080/"
        },
        "id": "HCJIH5ZNdqkl",
        "outputId": "cd05097e-db63-4d14-a89e-3404edb6e0ea"
      },
      "outputs": [],
      "source": [
        "nltk.download('punkt')"
      ]
    },
    {
      "cell_type": "code",
      "execution_count": null,
      "metadata": {
        "id": "G1Fb64KsdbNl"
      },
      "outputs": [],
      "source": [
        "txt = \"Some random text\""
      ]
    },
    {
      "cell_type": "code",
      "execution_count": null,
      "metadata": {
        "id": "LFE6uIdffBEP"
      },
      "outputs": [],
      "source": [
        "import re"
      ]
    },
    {
      "cell_type": "code",
      "execution_count": null,
      "metadata": {
        "id": "HMyATdR0Em6I"
      },
      "outputs": [],
      "source": [
        "txt = re.sub(r\"[^A-Za-z]\", \" \", txt)"
      ]
    },
    {
      "cell_type": "code",
      "execution_count": null,
      "metadata": {
        "colab": {
          "base_uri": "https://localhost:8080/"
        },
        "id": "AKd5-pU4ekB5",
        "outputId": "3f744805-6c27-4d6e-9e52-d9393575731c"
      },
      "outputs": [],
      "source": [
        "print(txt)"
      ]
    },
    {
      "cell_type": "code",
      "execution_count": null,
      "metadata": {
        "id": "JYraa3sBG4it"
      },
      "outputs": [],
      "source": [
        "txt = re.sub(r\"[^A-Za-z]\", \" \", txt)"
      ]
    },
    {
      "cell_type": "code",
      "execution_count": null,
      "metadata": {
        "colab": {
          "base_uri": "https://localhost:8080/"
        },
        "id": "vmoKoglFdgNn",
        "outputId": "e3d0a080-cf12-47b2-ecf6-4da395519b82"
      },
      "outputs": [],
      "source": [
        "t1 = word_tokenize(contractions.fix(txt))\n",
        "t2 = nltk.wordpunct_tokenize(contractions.fix(txt))\n",
        "print(t1)\n",
        "print(t2)"
      ]
    },
    {
      "cell_type": "code",
      "execution_count": null,
      "metadata": {
        "id": "GzX32GmsF8aD"
      },
      "outputs": [],
      "source": [
        "txt = contractions.fix(txt)"
      ]
    },
    {
      "cell_type": "code",
      "execution_count": null,
      "metadata": {
        "colab": {
          "base_uri": "https://localhost:8080/",
          "height": 36
        },
        "id": "GlMN60EhcTHJ",
        "outputId": "e50803b4-f521-45a4-ff12-b2d8b8137b74"
      },
      "outputs": [],
      "source": [
        "words = set(nltk.corpus.words.words())\n",
        "\n",
        "#sent = \"I work in google asdasb asnlkasn\"\n",
        "\" \".join(w for w in nltk.word_tokenize(txt) if (w.lower() in words) or len(w)>3)"
      ]
    },
    {
      "cell_type": "code",
      "execution_count": null,
      "metadata": {
        "colab": {
          "base_uri": "https://localhost:8080/"
        },
        "id": "GYEuIfBAEE95",
        "outputId": "513603bf-9d28-4cf6-98fb-338aa7ad8e72"
      },
      "outputs": [],
      "source": [
        "data = pd.read_csv(\"train.csv\", escapechar = \"\\\\\", quoting = csv.QUOTE_NONE, error_bad_lines=False, na_filter=False, nrows=10)"
      ]
    },
    {
      "cell_type": "code",
      "execution_count": null,
      "metadata": {
        "colab": {
          "base_uri": "https://localhost:8080/",
          "height": 206
        },
        "id": "6plhEsFWuXAc",
        "outputId": "4c19e7ee-1746-48cd-95ed-79eedf4f1d79"
      },
      "outputs": [],
      "source": [
        "data.head()"
      ]
    },
    {
      "cell_type": "code",
      "execution_count": null,
      "metadata": {
        "colab": {
          "base_uri": "https://localhost:8080/"
        },
        "id": "l8YWJNduIS0e",
        "outputId": "b279b7a0-8e39-4333-884e-b8927058607b"
      },
      "outputs": [],
      "source": [
        "print(f\"BROWSE_NODE_ID column has\",  data['BROWSE_NODE_ID'].isnull().sum())\n",
        "print(f\"TITLE column has\", data.TITLE.isnull().sum())\n",
        "print(f\"DESCRIPTION column has\", data.DESCRIPTION.isnull().sum())\n",
        "print(f\"BULLET_POINTS column has\", data.BULLET_POINTS.isnull().sum())\n",
        "print(f\"BRAND column has\", data.BRAND.isnull().sum())"
      ]
    },
    {
      "cell_type": "code",
      "execution_count": null,
      "metadata": {
        "id": "IHCQNWsdLt5D"
      },
      "outputs": [],
      "source": [
        "data_mod = data.drop_duplicates()"
      ]
    },
    {
      "cell_type": "code",
      "execution_count": null,
      "metadata": {
        "colab": {
          "base_uri": "https://localhost:8080/"
        },
        "id": "d71S-Yc4LvoU",
        "outputId": "2e16eceb-3653-4e0e-a60a-8c94df7e6869"
      },
      "outputs": [],
      "source": [
        "print(f\"BROWSE_NODE_ID column has\",  data_mod['BROWSE_NODE_ID'].isnull().sum())\n",
        "print(f\"TITLE column has\", data_mod.TITLE.isnull().sum())\n",
        "print(f\"DESCRIPTION column has\", data_mod.DESCRIPTION.isnull().sum())\n",
        "print(f\"BULLET_POINTS column has\", data_mod.BULLET_POINTS.isnull().sum())\n",
        "print(f\"BRAND column has\", data_mod.BRAND.isnull().sum())"
      ]
    }
  ],
  "metadata": {
    "colab": {
      "name": "Untitled0.ipynb",
      "provenance": []
    },
    "gpuClass": "standard",
    "kernelspec": {
      "display_name": "Python 3",
      "name": "python3"
    },
    "language_info": {
      "name": "python"
    }
  },
  "nbformat": 4,
  "nbformat_minor": 0
}
