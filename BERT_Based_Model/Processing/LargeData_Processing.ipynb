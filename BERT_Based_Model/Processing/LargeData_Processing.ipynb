{
  "cells": [
    {
      "cell_type": "code",
      "execution_count": 1,
      "metadata": {
        "gather": {
          "logged": 1655282107083
        },
        "id": "ehAmwPCWxnj5",
        "jupyter": {
          "outputs_hidden": false,
          "source_hidden": false
        }
      },
      "outputs": [],
      "source": [
        "import gc\n",
        "import re\n",
        "import csv\n",
        "import nltk\n",
        "import pickle\n",
        "import pandas as pd\n",
        "import contractions\n",
        "import unidecode\n",
        "from nltk.corpus import stopwords\n",
        "from nltk.tokenize import word_tokenize\n",
        "from nltk.stem import WordNetLemmatizer\n",
        "from sklearn.feature_extraction.text import CountVectorizer\n",
        "from sklearn.preprocessing import LabelBinarizer"
      ]
    },
    {
      "cell_type": "code",
      "execution_count": 2,
      "metadata": {
        "gather": {
          "logged": 1655282120925
        },
        "id": "n2jTN9uDxnj5"
      },
      "outputs": [
        {
          "name": "stderr",
          "output_type": "stream",
          "text": [
            "[nltk_data] Downloading package punkt to /home/azureuser/nltk_data...\n",
            "[nltk_data]   Package punkt is already up-to-date!\n",
            "[nltk_data] Downloading package words to /home/azureuser/nltk_data...\n",
            "[nltk_data]   Package words is already up-to-date!\n",
            "[nltk_data] Downloading package stopwords to\n",
            "[nltk_data]     /home/azureuser/nltk_data...\n",
            "[nltk_data]   Package stopwords is already up-to-date!\n",
            "[nltk_data] Downloading package wordnet to\n",
            "[nltk_data]     /home/azureuser/nltk_data...\n",
            "[nltk_data]   Package wordnet is already up-to-date!\n"
          ]
        }
      ],
      "source": [
        "nltk.download('punkt')\n",
        "nltk.download('words')\n",
        "nltk.download('stopwords')\n",
        "stop = stopwords.words('english')"
      ]
    },
    {
      "cell_type": "code",
      "execution_count": 12,
      "metadata": {
        "jupyter": {
          "outputs_hidden": false,
          "source_hidden": false
        },
        "nteract": {
          "transient": {
            "deleting": false
          }
        }
      },
      "outputs": [
        {
          "name": "stdout",
          "output_type": "stream",
          "text": [
            "Archive:  dataset52a7b21.zip\n",
            "   creating: dataset/\n",
            "  inflating: dataset/train.csv       \n",
            "  inflating: dataset/test.csv        \n"
          ]
        }
      ],
      "source": [
        "!unzip \"dataset52a7b21.zip\""
      ]
    },
    {
      "cell_type": "code",
      "execution_count": 2,
      "metadata": {
        "gather": {
          "logged": 1655225298587
        },
        "jupyter": {
          "outputs_hidden": false,
          "source_hidden": false
        },
        "nteract": {
          "transient": {
            "deleting": false
          }
        }
      },
      "outputs": [],
      "source": [
        "data = pd.read_csv(\"dataset/train.csv\", escapechar = \"\\\\\", quoting = csv.QUOTE_NONE, error_bad_lines=False, na_filter=False)"
      ]
    },
    {
      "cell_type": "code",
      "execution_count": 156,
      "metadata": {
        "gather": {
          "logged": 1655301517430
        },
        "jupyter": {
          "outputs_hidden": false,
          "source_hidden": false
        },
        "nteract": {
          "transient": {
            "deleting": false
          }
        }
      },
      "outputs": [],
      "source": [
        "data1.to_csv('data_128.csv')"
      ]
    },
    {
      "cell_type": "code",
      "execution_count": 180,
      "metadata": {
        "gather": {
          "logged": 1655303707151
        },
        "jupyter": {
          "outputs_hidden": true,
          "source_hidden": false
        },
        "nteract": {
          "transient": {
            "deleting": false
          }
        }
      },
      "outputs": [],
      "source": [
        "data = pd.read_csv(\"data5.csv\", na_filter=False)"
      ]
    },
    {
      "cell_type": "code",
      "execution_count": 6,
      "metadata": {
        "gather": {
          "logged": 1655225410277
        },
        "jupyter": {
          "outputs_hidden": false,
          "source_hidden": false
        },
        "nteract": {
          "transient": {
            "deleting": false
          }
        }
      },
      "outputs": [],
      "source": [
        "data = data.drop_duplicates()"
      ]
    },
    {
      "cell_type": "code",
      "execution_count": 9,
      "metadata": {
        "gather": {
          "logged": 1655225616007
        },
        "jupyter": {
          "outputs_hidden": false,
          "source_hidden": false
        },
        "nteract": {
          "transient": {
            "deleting": false
          }
        }
      },
      "outputs": [],
      "source": [
        "from collections import Counter"
      ]
    },
    {
      "cell_type": "code",
      "execution_count": 18,
      "metadata": {
        "gather": {
          "logged": 1655226495856
        },
        "jupyter": {
          "outputs_hidden": false,
          "source_hidden": false
        },
        "nteract": {
          "transient": {
            "deleting": false
          }
        }
      },
      "outputs": [],
      "source": [
        "labels = Counter(data['BROWSE_NODE_ID'])"
      ]
    },
    {
      "cell_type": "code",
      "execution_count": 27,
      "metadata": {
        "gather": {
          "logged": 1655227574266
        },
        "jupyter": {
          "outputs_hidden": false,
          "source_hidden": false
        },
        "nteract": {
          "transient": {
            "deleting": false
          }
        }
      },
      "outputs": [
        {
          "name": "stdout",
          "output_type": "stream",
          "text": [
            "9919\n"
          ]
        }
      ],
      "source": [
        "print(len(labels))"
      ]
    },
    {
      "cell_type": "code",
      "execution_count": 23,
      "metadata": {
        "gather": {
          "logged": 1655226700940
        },
        "jupyter": {
          "outputs_hidden": false,
          "source_hidden": false
        },
        "nteract": {
          "transient": {
            "deleting": false
          }
        }
      },
      "outputs": [
        {
          "name": "stdout",
          "output_type": "stream",
          "text": [
            "7398 2521\n"
          ]
        }
      ],
      "source": [
        "c, d = 0, 0\n",
        "for l in labels.keys():\n",
        "    if(labels[l]<100):\n",
        "        c += 1\n",
        "    else:\n",
        "        d += 1\n",
        "print(c, d)"
      ]
    },
    {
      "cell_type": "code",
      "execution_count": 28,
      "metadata": {
        "gather": {
          "logged": 1655227892568
        },
        "jupyter": {
          "outputs_hidden": false,
          "source_hidden": false
        },
        "nteract": {
          "transient": {
            "deleting": false
          }
        }
      },
      "outputs": [
        {
          "name": "stdout",
          "output_type": "stream",
          "text": [
            "164476\n"
          ]
        }
      ],
      "source": [
        "remove = []\n",
        "for i in range(2801530):\n",
        "    if(labels[data.iloc[i]['BROWSE_NODE_ID']]<100):\n",
        "        remove.append(i)\n",
        "print(len(remove))\n",
        "data_mod = data.drop(data.index[remove])"
      ]
    },
    {
      "cell_type": "code",
      "execution_count": 33,
      "metadata": {
        "gather": {
          "logged": 1655228161539
        },
        "jupyter": {
          "outputs_hidden": false,
          "source_hidden": false
        },
        "nteract": {
          "transient": {
            "deleting": false
          }
        }
      },
      "outputs": [],
      "source": [
        "labels_mod = Counter(data_mod['BROWSE_NODE_ID'])"
      ]
    },
    {
      "cell_type": "code",
      "execution_count": 5,
      "metadata": {
        "gather": {
          "logged": 1655282192375
        },
        "jupyter": {
          "outputs_hidden": false,
          "source_hidden": false
        },
        "nteract": {
          "transient": {
            "deleting": false
          }
        }
      },
      "outputs": [],
      "source": [
        "words = set(nltk.corpus.words.words())"
      ]
    },
    {
      "cell_type": "code",
      "execution_count": 6,
      "metadata": {
        "gather": {
          "logged": 1655282194511
        },
        "jupyter": {
          "outputs_hidden": false,
          "source_hidden": false
        },
        "nteract": {
          "transient": {
            "deleting": false
          }
        }
      },
      "outputs": [],
      "source": [
        "def preprocess_txt(df):\n",
        "    df = df.apply(unidecode.unidecode)\n",
        "    df = df.apply(contractions.fix)\n",
        "    df = df.str.lower()\n",
        "    df = df.str.replace(r\"[^a-z]\", \" \")\n",
        "    df = df.apply(word_tokenize)\n",
        "    df = df.apply(lambda x: [item for item in x if (item in words and len(item)>1) or len(item)>3])\n",
        "    return df"
      ]
    },
    {
      "cell_type": "code",
      "execution_count": 38,
      "metadata": {
        "gather": {
          "logged": 1655229509767
        },
        "id": "AyH45jCgxnj7"
      },
      "outputs": [],
      "source": [
        "def preprocess_brand(df):\n",
        "    df = df.apply(unidecode.unidecode)\n",
        "    df = df.str.replace(r\"[^A-Za-z0-9]\", \"\")\n",
        "    df = df.str.lower()\n",
        "    return df"
      ]
    },
    {
      "cell_type": "code",
      "execution_count": 48,
      "metadata": {
        "gather": {
          "logged": 1655230145234
        },
        "jupyter": {
          "outputs_hidden": false,
          "source_hidden": false
        },
        "nteract": {
          "transient": {
            "deleting": false
          }
        }
      },
      "outputs": [],
      "source": [
        "def preprocess_bullet(df):\n",
        "    df = df.apply(unidecode.unidecode)\n",
        "    df = df.str.lower()\n",
        "    df = df.apply(contractions.fix)\n",
        "    df = df.str.replace(r\"[^a-z]\", \" \")\n",
        "    df = df.apply(word_tokenize)\n",
        "    df = df.apply(lambda x: [item for item in x if len(item)>2 and item not in stop])\n",
        "    return df"
      ]
    },
    {
      "cell_type": "code",
      "execution_count": 49,
      "metadata": {
        "gather": {
          "logged": 1655231275117
        },
        "jupyter": {
          "outputs_hidden": false,
          "source_hidden": false
        },
        "nteract": {
          "transient": {
            "deleting": false
          }
        }
      },
      "outputs": [],
      "source": [
        "data_mod['BULLET_POINTS'] = preprocess_bullet(data_mod['BULLET_POINTS'])"
      ]
    },
    {
      "cell_type": "code",
      "execution_count": null,
      "metadata": {},
      "outputs": [],
      "source": [
        "data_new['Text'] = data['TITLE'] + data['DESCRIPTION']"
      ]
    },
    {
      "cell_type": "code",
      "execution_count": 12,
      "metadata": {
        "gather": {
          "logged": 1655283464782
        },
        "jupyter": {
          "outputs_hidden": false,
          "source_hidden": false
        },
        "nteract": {
          "transient": {
            "deleting": false
          }
        }
      },
      "outputs": [],
      "source": [
        "data_new['Text'] = preprocess_txt(data_new['Text'])"
      ]
    },
    {
      "cell_type": "code",
      "execution_count": null,
      "metadata": {},
      "outputs": [],
      "source": [
        "data_new['BRAND'] = preprocess_brand(data_new['BRAND'])"
      ]
    },
    {
      "cell_type": "code",
      "execution_count": 102,
      "metadata": {
        "gather": {
          "logged": 1655297100217
        },
        "jupyter": {
          "outputs_hidden": false,
          "source_hidden": false
        },
        "nteract": {
          "transient": {
            "deleting": false
          }
        }
      },
      "outputs": [
        {
          "name": "stdout",
          "output_type": "stream",
          "text": [
            "['the', 'new', 'yorker', 'nyhm', 'refrigerator', 'magnet', 'the', 'new', 'yorker', 'handsome', 'cello', 'wrapped', 'hard', 'magnet', 'measures', 'inch', 'width', 'by', 'inch', 'height', 'and', 'highlight', 'one', 'of', 'the', 'many', 'beautiful', 'new', 'yorker', 'covers', 'in', 'full', 'color', 'cat', 'in', 'tea', 'cup', 'by', 'new', 'yorker', 'cover', 'artist', 'gurbuz', 'dogan', 'eksioglu', 'ideal', 'home', 'office', 'gift', 'magazine', 'lover', 'rigid', 'thenewyorker']\n"
          ]
        }
      ],
      "source": [
        "print(data_new.iloc[1]['Text'])"
      ]
    },
    {
      "cell_type": "code",
      "execution_count": null,
      "metadata": {},
      "outputs": [],
      "source": [
        "def processBP(pt):\n",
        "    pt = re.sub(r\"[^a-z]\", \" \", pt)\n",
        "    return pt.split()"
      ]
    },
    {
      "cell_type": "markdown",
      "metadata": {},
      "source": [
        "Merge Bullet Points to Text Field"
      ]
    },
    {
      "cell_type": "code",
      "execution_count": null,
      "metadata": {},
      "outputs": [],
      "source": [
        "for i in range(2637054):\n",
        "    temp = set(data_new2.iloc[i]['Text'])\n",
        "    pts = processBP(data_new2.iloc[i]['BULLET_POINTS'])\n",
        "    for pt in pts:\n",
        "        if(pt not in temp):\n",
        "            data_new2.iloc[i]['Text'].append(pt)"
      ]
    },
    {
      "cell_type": "markdown",
      "metadata": {},
      "source": [
        "Merge Brand to Text Field"
      ]
    },
    {
      "cell_type": "code",
      "execution_count": 98,
      "metadata": {
        "gather": {
          "logged": 1655297016160
        },
        "jupyter": {
          "outputs_hidden": false,
          "source_hidden": false
        },
        "nteract": {
          "transient": {
            "deleting": false
          }
        }
      },
      "outputs": [],
      "source": [
        "for i in range(2637054):\n",
        "    temp = set(data_new2.iloc[i]['Text'])\n",
        "    if(data_new2.iloc[i]['BRAND'] not in temp):\n",
        "        data_new2.iloc[i]['Text'].append(data_new2.iloc[i]['BRAND'])"
      ]
    },
    {
      "cell_type": "code",
      "execution_count": 129,
      "metadata": {
        "gather": {
          "logged": 1655298841483
        },
        "jupyter": {
          "outputs_hidden": false,
          "source_hidden": false
        },
        "nteract": {
          "transient": {
            "deleting": false
          }
        }
      },
      "outputs": [
        {
          "name": "stdout",
          "output_type": "stream",
          "text": [
            "789875\n"
          ]
        }
      ],
      "source": [
        "seriesObj = data_new3.apply(lambda x : True if len(x['Text']) >128 else False, axis = 1)\n",
        "numOfRows = len(seriesObj[seriesObj == True].index)\n",
        "print(numOfRows)"
      ]
    },
    {
      "cell_type": "code",
      "execution_count": 161,
      "metadata": {
        "gather": {
          "logged": 1655302279236
        },
        "jupyter": {
          "outputs_hidden": false,
          "source_hidden": false
        },
        "nteract": {
          "transient": {
            "deleting": false
          }
        }
      },
      "outputs": [
        {
          "name": "stdout",
          "output_type": "stream",
          "text": [
            "174914\n"
          ]
        }
      ],
      "source": [
        "seriesObj = data_new3.apply(lambda x : True if (len(x['Text']) >=200 and len(x['Text']) <= 254) else False, axis = 1)\n",
        "numOfRows = len(seriesObj[seriesObj == True].index)\n",
        "print(numOfRows)"
      ]
    },
    {
      "cell_type": "code",
      "execution_count": null,
      "metadata": {},
      "outputs": [],
      "source": [
        "seriesObj = data_new3.apply(lambda x : True if (len(x['Text']) >=100 and len(x['Text']) <= 126) else False, axis = 1)\n",
        "numOfRows = len(seriesObj[seriesObj == True].index)\n",
        "print(numOfRows)"
      ]
    },
    {
      "cell_type": "code",
      "execution_count": 151,
      "metadata": {
        "gather": {
          "logged": 1655301398073
        },
        "jupyter": {
          "outputs_hidden": false,
          "source_hidden": false
        },
        "nteract": {
          "transient": {
            "deleting": false
          }
        }
      },
      "outputs": [],
      "source": [
        "data1 = data_new3.loc[data_new3.index[seriesObj[seriesObj == True].index.values]]"
      ]
    },
    {
      "cell_type": "code",
      "execution_count": 158,
      "metadata": {
        "gather": {
          "logged": 1655301590960
        },
        "jupyter": {
          "outputs_hidden": false,
          "source_hidden": false
        },
        "nteract": {
          "transient": {
            "deleting": false
          }
        }
      },
      "outputs": [],
      "source": [
        "counter = Counter(data1['BROWSE_NODE_ID'])"
      ]
    },
    {
      "cell_type": "code",
      "execution_count": 159,
      "metadata": {
        "gather": {
          "logged": 1655301606425
        },
        "jupyter": {
          "outputs_hidden": false,
          "source_hidden": false
        },
        "nteract": {
          "transient": {
            "deleting": false
          }
        }
      },
      "outputs": [
        {
          "name": "stdout",
          "output_type": "stream",
          "text": [
            "2513\n"
          ]
        }
      ],
      "source": [
        "print(len(counter))"
      ]
    },
    {
      "cell_type": "code",
      "execution_count": 160,
      "metadata": {
        "gather": {
          "logged": 1655301736345
        },
        "jupyter": {
          "outputs_hidden": false,
          "source_hidden": false
        },
        "nteract": {
          "transient": {
            "deleting": false
          }
        }
      },
      "outputs": [
        {
          "name": "stdout",
          "output_type": "stream",
          "text": [
            "467\n"
          ]
        }
      ],
      "source": [
        "count = 0\n",
        "for i in counter.keys():\n",
        "    if(counter[i]>=100):\n",
        "        count += 1\n",
        "print(count)"
      ]
    },
    {
      "cell_type": "code",
      "execution_count": 162,
      "metadata": {
        "gather": {
          "logged": 1655302427960
        },
        "jupyter": {
          "outputs_hidden": false,
          "source_hidden": false
        },
        "nteract": {
          "transient": {
            "deleting": false
          }
        }
      },
      "outputs": [
        {
          "data": {
            "text/plain": [
              "(248974, 2)"
            ]
          },
          "execution_count": 162,
          "metadata": {},
          "output_type": "execute_result"
        }
      ],
      "source": [
        "data1.shape"
      ]
    },
    {
      "cell_type": "code",
      "execution_count": 164,
      "metadata": {
        "gather": {
          "logged": 1655302532532
        },
        "jupyter": {
          "outputs_hidden": false,
          "source_hidden": false
        },
        "nteract": {
          "transient": {
            "deleting": false
          }
        }
      },
      "outputs": [
        {
          "name": "stdout",
          "output_type": "stream",
          "text": [
            "62441\n"
          ]
        }
      ],
      "source": [
        "remove = []\n",
        "for i in range(248974):\n",
        "    if(counter[data1.iloc[i]['BROWSE_NODE_ID']]<100):\n",
        "        remove.append(i)\n",
        "print(len(remove))"
      ]
    },
    {
      "cell_type": "code",
      "execution_count": 165,
      "metadata": {
        "gather": {
          "logged": 1655302555035
        },
        "jupyter": {
          "outputs_hidden": false,
          "source_hidden": false
        },
        "nteract": {
          "transient": {
            "deleting": false
          }
        }
      },
      "outputs": [],
      "source": [
        "data_mod = data1.drop(data1.index[remove])"
      ]
    },
    {
      "cell_type": "code",
      "execution_count": 166,
      "metadata": {
        "gather": {
          "logged": 1655302582080
        },
        "jupyter": {
          "outputs_hidden": false,
          "source_hidden": false
        },
        "nteract": {
          "transient": {
            "deleting": false
          }
        }
      },
      "outputs": [
        {
          "data": {
            "text/plain": [
              "(186533, 2)"
            ]
          },
          "execution_count": 166,
          "metadata": {},
          "output_type": "execute_result"
        }
      ],
      "source": [
        "data_mod.shape"
      ]
    },
    {
      "cell_type": "code",
      "execution_count": 168,
      "metadata": {
        "gather": {
          "logged": 1655302835213
        },
        "jupyter": {
          "outputs_hidden": false,
          "source_hidden": false
        },
        "nteract": {
          "transient": {
            "deleting": false
          }
        }
      },
      "outputs": [],
      "source": [
        "counter = Counter(data_mod['BROWSE_NODE_ID'])"
      ]
    },
    {
      "cell_type": "code",
      "execution_count": 173,
      "metadata": {
        "gather": {
          "logged": 1655303041272
        },
        "jupyter": {
          "outputs_hidden": false,
          "source_hidden": false
        },
        "nteract": {
          "transient": {
            "deleting": false
          }
        }
      },
      "outputs": [],
      "source": [
        "remove = []\n",
        "tempdict = {}\n",
        "for i in range(186533):\n",
        "    if(data_mod.iloc[i]['BROWSE_NODE_ID'] in tempdict and tempdict[data_mod.iloc[i]['BROWSE_NODE_ID']]<100):\n",
        "      tempdict[data_mod.iloc[i]['BROWSE_NODE_ID']] += 1\n",
        "    elif(data_mod.iloc[i]['BROWSE_NODE_ID'] not in tempdict):\n",
        "      tempdict[data_mod.iloc[i]['BROWSE_NODE_ID']] = 1\n",
        "    else:\n",
        "      remove.append(i)"
      ]
    },
    {
      "cell_type": "code",
      "execution_count": 174,
      "metadata": {
        "gather": {
          "logged": 1655303111141
        },
        "jupyter": {
          "outputs_hidden": false,
          "source_hidden": false
        },
        "nteract": {
          "transient": {
            "deleting": false
          }
        }
      },
      "outputs": [
        {
          "data": {
            "text/plain": [
              "46700"
            ]
          },
          "execution_count": 174,
          "metadata": {},
          "output_type": "execute_result"
        }
      ],
      "source": [
        "186533- len(remove)"
      ]
    },
    {
      "cell_type": "code",
      "execution_count": 175,
      "metadata": {
        "gather": {
          "logged": 1655303170594
        },
        "jupyter": {
          "outputs_hidden": false,
          "source_hidden": false
        },
        "nteract": {
          "transient": {
            "deleting": false
          }
        }
      },
      "outputs": [],
      "source": [
        "data_mod2 = data_mod.drop(data_mod.index[remove])"
      ]
    },
    {
      "cell_type": "code",
      "execution_count": 179,
      "metadata": {
        "gather": {
          "logged": 1655303554385
        },
        "jupyter": {
          "outputs_hidden": false,
          "source_hidden": false
        },
        "nteract": {
          "transient": {
            "deleting": false
          }
        }
      },
      "outputs": [
        {
          "data": {
            "text/plain": [
              "(46700, 2)"
            ]
          },
          "execution_count": 179,
          "metadata": {},
          "output_type": "execute_result"
        }
      ],
      "source": [
        "data_mod2.shape"
      ]
    },
    {
      "cell_type": "code",
      "execution_count": 178,
      "metadata": {
        "gather": {
          "logged": 1655303529448
        },
        "jupyter": {
          "outputs_hidden": false,
          "source_hidden": false
        },
        "nteract": {
          "transient": {
            "deleting": false
          }
        }
      },
      "outputs": [],
      "source": [
        "data_mod2.to_csv('data_467.csv')"
      ]
    }
  ],
  "metadata": {
    "colab": {
      "name": "Amazon2.ipynb",
      "provenance": []
    },
    "interpreter": {
      "hash": "ac59ebe37160ed0dfa835113d9b8498d9f09ceb179beaac4002f036b9467c963"
    },
    "kernel_info": {
      "name": "python3"
    },
    "kernelspec": {
      "display_name": "Python 3",
      "language": "python",
      "name": "python3"
    },
    "language_info": {
      "codemirror_mode": {
        "name": "ipython",
        "version": 3
      },
      "file_extension": ".py",
      "mimetype": "text/x-python",
      "name": "python",
      "nbconvert_exporter": "python",
      "pygments_lexer": "ipython3",
      "version": "3.8.5"
    },
    "nteract": {
      "version": "nteract-front-end@1.0.0"
    },
    "orig_nbformat": 4
  },
  "nbformat": 4,
  "nbformat_minor": 2
}
