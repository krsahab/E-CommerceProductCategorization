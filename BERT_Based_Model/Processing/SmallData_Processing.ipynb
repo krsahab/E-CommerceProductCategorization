{
  "cells": [
    {
      "cell_type": "code",
      "execution_count": null,
      "metadata": {
        "colab": {
          "base_uri": "https://localhost:8080/"
        },
        "id": "uCsTDtbzE3Ka",
        "outputId": "6a925559-324d-47b9-e179-1b8c8de83f4a"
      },
      "outputs": [
        {
          "name": "stdout",
          "output_type": "stream",
          "text": [
            "Mounted at /content/drive\n"
          ]
        }
      ],
      "source": [
        "from google.colab import drive\n",
        "drive.mount('/content/drive')"
      ]
    },
    {
      "cell_type": "code",
      "execution_count": null,
      "metadata": {
        "id": "IwJ_HzNVRXka"
      },
      "outputs": [],
      "source": [
        "import os\n",
        "root_path = '/content/drive/MyDrive/Data/dataset'\n",
        "os.chdir(root_path)"
      ]
    },
    {
      "cell_type": "code",
      "execution_count": null,
      "metadata": {
        "id": "IFT9gpjkSt54"
      },
      "outputs": [],
      "source": [
        "import pandas as pd\n",
        "import numpy as np\n",
        "import csv\n",
        "import re\n",
        "import os\n",
        "import shutil\n",
        "from sklearn.preprocessing import OneHotEncoder"
      ]
    },
    {
      "cell_type": "code",
      "execution_count": null,
      "metadata": {
        "colab": {
          "base_uri": "https://localhost:8080/"
        },
        "id": "DggZ-MJJFmtM",
        "outputId": "8f28db8a-48e2-41fb-e7a7-b94aa40b65b6"
      },
      "outputs": [
        {
          "name": "stdout",
          "output_type": "stream",
          "text": [
            "Collecting contractions\n",
            "  Downloading contractions-0.1.72-py2.py3-none-any.whl (8.3 kB)\n",
            "Collecting textsearch>=0.0.21\n",
            "  Downloading textsearch-0.0.21-py2.py3-none-any.whl (7.5 kB)\n",
            "Collecting anyascii\n",
            "  Downloading anyascii-0.3.1-py3-none-any.whl (287 kB)\n",
            "\u001b[K     |████████████████████████████████| 287 kB 5.3 MB/s \n",
            "\u001b[?25hCollecting pyahocorasick\n",
            "  Downloading pyahocorasick-1.4.4-cp37-cp37m-manylinux_2_17_x86_64.manylinux2014_x86_64.whl (106 kB)\n",
            "\u001b[K     |████████████████████████████████| 106 kB 55.1 MB/s \n",
            "\u001b[?25hInstalling collected packages: pyahocorasick, anyascii, textsearch, contractions\n",
            "Successfully installed anyascii-0.3.1 contractions-0.1.72 pyahocorasick-1.4.4 textsearch-0.0.21\n"
          ]
        }
      ],
      "source": [
        "!pip install contractions\n",
        "import contractions"
      ]
    },
    {
      "cell_type": "code",
      "execution_count": null,
      "metadata": {
        "colab": {
          "base_uri": "https://localhost:8080/"
        },
        "id": "WwYE7M28AqYg",
        "outputId": "50f6f9fd-5597-461d-eab7-9164ba1ba35e"
      },
      "outputs": [
        {
          "name": "stdout",
          "output_type": "stream",
          "text": [
            "Collecting unidecode\n",
            "  Downloading Unidecode-1.3.4-py3-none-any.whl (235 kB)\n",
            "\u001b[?25l\r\u001b[K     |█▍                              | 10 kB 20.8 MB/s eta 0:00:01\r\u001b[K     |██▉                             | 20 kB 11.3 MB/s eta 0:00:01\r\u001b[K     |████▏                           | 30 kB 9.2 MB/s eta 0:00:01\r\u001b[K     |█████▋                          | 40 kB 8.4 MB/s eta 0:00:01\r\u001b[K     |███████                         | 51 kB 4.5 MB/s eta 0:00:01\r\u001b[K     |████████▍                       | 61 kB 5.3 MB/s eta 0:00:01\r\u001b[K     |█████████▊                      | 71 kB 5.4 MB/s eta 0:00:01\r\u001b[K     |███████████▏                    | 81 kB 4.1 MB/s eta 0:00:01\r\u001b[K     |████████████▌                   | 92 kB 4.6 MB/s eta 0:00:01\r\u001b[K     |██████████████                  | 102 kB 5.1 MB/s eta 0:00:01\r\u001b[K     |███████████████▎                | 112 kB 5.1 MB/s eta 0:00:01\r\u001b[K     |████████████████▊               | 122 kB 5.1 MB/s eta 0:00:01\r\u001b[K     |██████████████████              | 133 kB 5.1 MB/s eta 0:00:01\r\u001b[K     |███████████████████▌            | 143 kB 5.1 MB/s eta 0:00:01\r\u001b[K     |████████████████████▉           | 153 kB 5.1 MB/s eta 0:00:01\r\u001b[K     |██████████████████████▎         | 163 kB 5.1 MB/s eta 0:00:01\r\u001b[K     |███████████████████████▋        | 174 kB 5.1 MB/s eta 0:00:01\r\u001b[K     |█████████████████████████       | 184 kB 5.1 MB/s eta 0:00:01\r\u001b[K     |██████████████████████████▍     | 194 kB 5.1 MB/s eta 0:00:01\r\u001b[K     |███████████████████████████▉    | 204 kB 5.1 MB/s eta 0:00:01\r\u001b[K     |█████████████████████████████▏  | 215 kB 5.1 MB/s eta 0:00:01\r\u001b[K     |██████████████████████████████▋ | 225 kB 5.1 MB/s eta 0:00:01\r\u001b[K     |████████████████████████████████| 235 kB 5.1 MB/s eta 0:00:01\r\u001b[K     |████████████████████████████████| 235 kB 5.1 MB/s \n",
            "\u001b[?25hInstalling collected packages: unidecode\n",
            "Successfully installed unidecode-1.3.4\n"
          ]
        }
      ],
      "source": [
        "!pip install unidecode\n",
        "import unidecode"
      ]
    },
    {
      "cell_type": "code",
      "execution_count": null,
      "metadata": {},
      "outputs": [],
      "source": [
        "data_raw = pd.read_csv(\"train.csv\", escapechar = \"\\\\\", quoting = csv.QUOTE_NONE, error_bad_lines=False, na_filter=False)"
      ]
    },
    {
      "cell_type": "code",
      "execution_count": null,
      "metadata": {},
      "outputs": [],
      "source": [
        "data_raw = data_raw[data_raw['BROWSE_NODE_ID']<=100]"
      ]
    },
    {
      "cell_type": "code",
      "execution_count": null,
      "metadata": {
        "id": "gvCGuYUPxq9j"
      },
      "outputs": [],
      "source": [
        "label = data_raw['BROWSE_NODE_ID'].values\n",
        "data = data_raw.drop(columns=['BROWSE_NODE_ID','BULLET_POINTS']).values"
      ]
    },
    {
      "cell_type": "code",
      "execution_count": null,
      "metadata": {
        "colab": {
          "base_uri": "https://localhost:8080/"
        },
        "id": "deE04XU1BA01",
        "outputId": "ce58ed38-b72c-4dae-bb1b-ec8ad57c6dd8"
      },
      "outputs": [
        {
          "data": {
            "text/plain": [
              "((2903024,), (2903024,))"
            ]
          },
          "execution_count": 14,
          "metadata": {},
          "output_type": "execute_result"
        }
      ],
      "source": [
        "data.shape, label.shape"
      ]
    },
    {
      "cell_type": "markdown",
      "metadata": {},
      "source": [
        "Get data with 1000 labels, 100 sample each label, whose label frequency is >= 100 "
      ]
    },
    {
      "cell_type": "code",
      "execution_count": null,
      "metadata": {},
      "outputs": [],
      "source": [
        "import collections\n",
        "counter = collections.Counter(data_raw['BROWSE_NODE_ID'].values)"
      ]
    },
    {
      "cell_type": "markdown",
      "metadata": {},
      "source": [
        "Total labels with more than 100 samples"
      ]
    },
    {
      "cell_type": "code",
      "execution_count": null,
      "metadata": {
        "colab": {
          "base_uri": "https://localhost:8080/"
        },
        "id": "2cYtjlBm65hk",
        "outputId": "765ec3a6-4784-4bc7-f513-06cebf7ebfc3"
      },
      "outputs": [
        {
          "name": "stdout",
          "output_type": "stream",
          "text": [
            "2512\n"
          ]
        }
      ],
      "source": [
        "count = 0\n",
        "for x, y in counter.items():\n",
        "  if(y>100):\n",
        "    count += 1\n",
        "print(count)"
      ]
    },
    {
      "cell_type": "code",
      "execution_count": null,
      "metadata": {
        "id": "B9bDIDxRAml9"
      },
      "outputs": [],
      "source": [
        "remove = []\n",
        "tempdict = {}\n",
        "for i in range(2903024):\n",
        "  if(counter[data_raw.iloc[i]['BROWSE_NODE_ID']]>=100):\n",
        "    if(data_raw.iloc[i]['BROWSE_NODE_ID'] in tempdict and tempdict[data_raw.iloc[i]['BROWSE_NODE_ID']]<100):\n",
        "      tempdict[data_raw.iloc[i]['BROWSE_NODE_ID']] += 1\n",
        "    elif(data_raw.iloc[i]['BROWSE_NODE_ID'] not in tempdict and len(tempdict)<1000):\n",
        "      tempdict[data_raw.iloc[i]['BROWSE_NODE_ID']] = 1\n",
        "    else:\n",
        "      remove.append(i)\n",
        "  else:\n",
        "    remove.append(i)\n",
        "data = data_raw.drop(remove)"
      ]
    },
    {
      "cell_type": "markdown",
      "metadata": {},
      "source": [
        "Get 100 samples of 50 labels for training"
      ]
    },
    {
      "cell_type": "code",
      "execution_count": null,
      "metadata": {
        "id": "eiWTjsQdh0to"
      },
      "outputs": [],
      "source": [
        "remove = []\n",
        "tempdict = {}\n",
        "for i in range(100000-1, -1, -1):\n",
        "  if(data_raw.iloc[i]['BROWSE_NODE_ID'] in tempdict and tempdict[data_raw.iloc[i]['BROWSE_NODE_ID']]<100):\n",
        "    tempdict[data_raw.iloc[i]['BROWSE_NODE_ID']] += 1\n",
        "  elif(data_raw.iloc[i]['BROWSE_NODE_ID'] not in tempdict and len(tempdict)<50):\n",
        "    tempdict[data_raw.iloc[i]['BROWSE_NODE_ID']] = 1\n",
        "  else:\n",
        "    remove.append(i)"
      ]
    },
    {
      "cell_type": "markdown",
      "metadata": {},
      "source": [
        "Get 20 samples of 50 labels for testing"
      ]
    },
    {
      "cell_type": "code",
      "execution_count": null,
      "metadata": {
        "id": "gHuxmCgjyXbj"
      },
      "outputs": [],
      "source": [
        "remove = []\n",
        "tempdict2 = {}\n",
        "for i in range(100000-1, -1, -1):\n",
        "  if(data_raw.iloc[i]['BROWSE_NODE_ID'] in tempdict):\n",
        "    if(data_raw.iloc[i]['BROWSE_NODE_ID'] in tempdict2 and tempdict2[data_raw.iloc[i]['BROWSE_NODE_ID']]<20):\n",
        "      tempdict2[data_raw.iloc[i]['BROWSE_NODE_ID']] += 1\n",
        "    elif(data_raw.iloc[i]['BROWSE_NODE_ID'] not in tempdict2):\n",
        "      tempdict2[data_raw.iloc[i]['BROWSE_NODE_ID']] = 1\n",
        "    else:\n",
        "      remove.append(i)\n",
        "  else:\n",
        "    remove.append(i)"
      ]
    },
    {
      "cell_type": "code",
      "execution_count": null,
      "metadata": {
        "id": "UYUu32kzih68"
      },
      "outputs": [],
      "source": [
        "data = data_raw.drop([data_raw.index[i] for i in remove])"
      ]
    },
    {
      "cell_type": "code",
      "execution_count": null,
      "metadata": {
        "id": "D_R9nYLj8QW9"
      },
      "outputs": [],
      "source": [
        "import pickle\n",
        "data.to_pickle('data_val.pkl')"
      ]
    },
    {
      "cell_type": "markdown",
      "metadata": {},
      "source": [
        "Data Processing for training"
      ]
    },
    {
      "cell_type": "code",
      "execution_count": null,
      "metadata": {
        "id": "4fOBhKdAhjtg"
      },
      "outputs": [],
      "source": [
        "label = data_raw['BROWSE_NODE_ID'].values\n",
        "data = data_raw['BULLET_POINTS'].values\n",
        "data = data_raw.drop(columns=['BROWSE_NODE_ID','BRAND']).values"
      ]
    },
    {
      "cell_type": "code",
      "execution_count": null,
      "metadata": {
        "id": "FuogWn6R9hpg"
      },
      "outputs": [],
      "source": [
        "def standardize_brand(data):\n",
        "  data = unidecode.unidecode(data)\n",
        "  data = re.sub(r\"[^A-Za-z0-9]\", \"\", data)\n",
        "  data = data.lower()\n",
        "  return data"
      ]
    },
    {
      "cell_type": "markdown",
      "metadata": {},
      "source": [
        "Get total labels for each brand"
      ]
    },
    {
      "cell_type": "code",
      "execution_count": null,
      "metadata": {
        "id": "NZSw3qtUA_io"
      },
      "outputs": [],
      "source": [
        "brands = {}\n",
        "for i in range(2903024):\n",
        "  data[i] = standardize_brand(data[i])\n",
        "  if(data[i] not in brands):\n",
        "    brands[data[i]] = set()\n",
        "  brands[data[i]].add(label[i])"
      ]
    },
    {
      "cell_type": "code",
      "execution_count": null,
      "metadata": {
        "id": "-51mx49Sliuq"
      },
      "outputs": [],
      "source": [
        "def standardize_text(data):\n",
        "  data = ' '.join(data)\n",
        "  data = contractions.fix(data)\n",
        "  data = re.sub(r\"[^A-Za-z]\", \" \", data)\n",
        "  data = data.lower()\n",
        "  return data"
      ]
    },
    {
      "cell_type": "code",
      "execution_count": null,
      "metadata": {
        "id": "WWVOBl-iBOix"
      },
      "outputs": [],
      "source": [
        "data_processed = []\n",
        "for d in data:\n",
        "  data_processed.append(standardize_text(d))\n",
        "data_processed = np.array(data_processed)"
      ]
    },
    {
      "cell_type": "code",
      "execution_count": null,
      "metadata": {
        "id": "FdXwpHY-iY11"
      },
      "outputs": [],
      "source": [
        "from sklearn.preprocessing import OneHotEncoder"
      ]
    },
    {
      "cell_type": "code",
      "execution_count": null,
      "metadata": {
        "id": "j0LL3W7JjL4e"
      },
      "outputs": [],
      "source": [
        "label_t = label.reshape(-1,1)"
      ]
    },
    {
      "cell_type": "code",
      "execution_count": null,
      "metadata": {
        "id": "rq5HW9VHieUN"
      },
      "outputs": [],
      "source": [
        "onehot_encoder = OneHotEncoder(sparse=False)\n",
        "label_encoded = onehot_encoder.fit_transform(label_t)"
      ]
    },
    {
      "cell_type": "code",
      "execution_count": null,
      "metadata": {
        "colab": {
          "base_uri": "https://localhost:8080/"
        },
        "id": "2T8HAGHOjUQK",
        "outputId": "b7349c91-fa93-437f-ccbb-7235b56dd233"
      },
      "outputs": [
        {
          "data": {
            "text/plain": [
              "(5000, 50)"
            ]
          },
          "execution_count": 54,
          "metadata": {},
          "output_type": "execute_result"
        }
      ],
      "source": [
        "label_encoded.shape"
      ]
    }
  ],
  "metadata": {
    "accelerator": "GPU",
    "colab": {
      "name": "MTech.ipynb",
      "provenance": []
    },
    "kernelspec": {
      "display_name": "Python 3",
      "name": "python3"
    },
    "language_info": {
      "name": "python"
    }
  },
  "nbformat": 4,
  "nbformat_minor": 0
}
