{
  "cells": [
    {
      "cell_type": "code",
      "execution_count": null,
      "source": [
        "import numpy as np\r\n",
        "import pandas as pd"
      ],
      "outputs": [],
      "metadata": {
        "id": "h0-iuDkDCIRX",
        "executionInfo": {
          "status": "ok",
          "timestamp": 1627793710003,
          "user_tz": -330,
          "elapsed": 545,
          "user": {
            "displayName": "KUMAR SAHAB",
            "photoUrl": "",
            "userId": "11371194185235224653"
          }
        },
        "execution": {
          "iopub.status.busy": "2021-08-01T08:32:34.218115Z",
          "iopub.execute_input": "2021-08-01T08:32:34.218478Z",
          "iopub.status.idle": "2021-08-01T08:32:34.222705Z",
          "shell.execute_reply.started": "2021-08-01T08:32:34.218450Z",
          "shell.execute_reply": "2021-08-01T08:32:34.221615Z"
        },
        "trusted": true,
        "gather": {
          "logged": 1627842074506
        }
      }
    },
    {
      "cell_type": "code",
      "execution_count": null,
      "source": [
        "def allNeighbor(i, testdata):\r\n",
        "    return np.asarray([len(np.intersect1d(x, testdata[i])) for x in train_data])"
      ],
      "outputs": [],
      "metadata": {
        "id": "Ho3wqggkCIRb",
        "executionInfo": {
          "status": "ok",
          "timestamp": 1627793919693,
          "user_tz": -330,
          "elapsed": 727,
          "user": {
            "displayName": "KUMAR SAHAB",
            "photoUrl": "",
            "userId": "11371194185235224653"
          }
        },
        "execution": {
          "iopub.status.busy": "2021-08-01T06:53:26.910549Z",
          "iopub.execute_input": "2021-08-01T06:53:26.911069Z",
          "iopub.status.idle": "2021-08-01T06:53:26.916187Z",
          "shell.execute_reply.started": "2021-08-01T06:53:26.911036Z",
          "shell.execute_reply": "2021-08-01T06:53:26.915202Z"
        },
        "trusted": true
      }
    },
    {
      "cell_type": "code",
      "execution_count": null,
      "source": [
        "def kNeighbor(k, i, testdata):\r\n",
        "    return np.argpartition(-allNeighbor(i, testdata), k)[:k]"
      ],
      "outputs": [],
      "metadata": {
        "id": "chVHWmnPCIRd",
        "executionInfo": {
          "status": "ok",
          "timestamp": 1627793926433,
          "user_tz": -330,
          "elapsed": 598,
          "user": {
            "displayName": "KUMAR SAHAB",
            "photoUrl": "",
            "userId": "11371194185235224653"
          }
        },
        "execution": {
          "iopub.status.busy": "2021-08-01T06:53:30.596284Z",
          "iopub.execute_input": "2021-08-01T06:53:30.596726Z",
          "iopub.status.idle": "2021-08-01T06:53:30.600890Z",
          "shell.execute_reply.started": "2021-08-01T06:53:30.596693Z",
          "shell.execute_reply": "2021-08-01T06:53:30.600177Z"
        },
        "trusted": true
      }
    },
    {
      "cell_type": "code",
      "execution_count": null,
      "source": [
        "#For k=1\r\n",
        "def kNeighborAlt(i, testdata):\r\n",
        "    return np.argmax(allNeighbor(i, testdata))"
      ],
      "outputs": [],
      "metadata": {
        "execution": {
          "iopub.status.busy": "2021-08-01T06:53:33.719688Z",
          "iopub.execute_input": "2021-08-01T06:53:33.720364Z",
          "iopub.status.idle": "2021-08-01T06:53:33.724330Z",
          "shell.execute_reply.started": "2021-08-01T06:53:33.720288Z",
          "shell.execute_reply": "2021-08-01T06:53:33.723570Z"
        },
        "trusted": true
      }
    },
    {
      "cell_type": "code",
      "execution_count": null,
      "source": [
        "def labelPredicted(k, i, testdata):\r\n",
        "    res = label[kNeighbor(k, i, testdata)]\r\n",
        "    counts = np.bincount(res)\r\n",
        "    return np.argmax(counts);"
      ],
      "outputs": [],
      "metadata": {
        "id": "dRBofmw6CIRe",
        "executionInfo": {
          "status": "ok",
          "timestamp": 1627793934321,
          "user_tz": -330,
          "elapsed": 562,
          "user": {
            "displayName": "KUMAR SAHAB",
            "photoUrl": "",
            "userId": "11371194185235224653"
          }
        },
        "execution": {
          "iopub.status.busy": "2021-08-01T06:53:40.139701Z",
          "iopub.execute_input": "2021-08-01T06:53:40.140341Z",
          "iopub.status.idle": "2021-08-01T06:53:40.145326Z",
          "shell.execute_reply.started": "2021-08-01T06:53:40.140297Z",
          "shell.execute_reply": "2021-08-01T06:53:40.144194Z"
        },
        "trusted": true
      }
    },
    {
      "cell_type": "code",
      "execution_count": null,
      "source": [
        "#For k=1\r\n",
        "def labelPredictedAlt(i, testdata):\r\n",
        "    return label[kNeighborAlt(i, testdata)]"
      ],
      "outputs": [],
      "metadata": {
        "execution": {
          "iopub.status.busy": "2021-08-01T06:53:43.264678Z",
          "iopub.execute_input": "2021-08-01T06:53:43.265030Z",
          "iopub.status.idle": "2021-08-01T06:53:43.268997Z",
          "shell.execute_reply.started": "2021-08-01T06:53:43.265002Z",
          "shell.execute_reply": "2021-08-01T06:53:43.268274Z"
        },
        "trusted": true
      }
    },
    {
      "cell_type": "code",
      "execution_count": null,
      "source": [
        "def predict(k, testdata):\r\n",
        "    res = []\r\n",
        "    for i in range(testdata.shape[0]):\r\n",
        "        res.append(labelPredicted(k, i, testdata))\r\n",
        "    return np.asarray(res)"
      ],
      "outputs": [],
      "metadata": {
        "id": "Ech8TQL9CIRf",
        "executionInfo": {
          "status": "ok",
          "timestamp": 1627793948048,
          "user_tz": -330,
          "elapsed": 470,
          "user": {
            "displayName": "KUMAR SAHAB",
            "photoUrl": "",
            "userId": "11371194185235224653"
          }
        },
        "execution": {
          "iopub.status.busy": "2021-08-01T07:21:17.949714Z",
          "iopub.execute_input": "2021-08-01T07:21:17.950063Z",
          "iopub.status.idle": "2021-08-01T07:21:17.955284Z",
          "shell.execute_reply.started": "2021-08-01T07:21:17.950035Z",
          "shell.execute_reply": "2021-08-01T07:21:17.953885Z"
        },
        "trusted": true
      }
    },
    {
      "cell_type": "code",
      "execution_count": null,
      "source": [
        "data = pd.read_pickle('data_processed_lite.pkl')\r\n",
        "train_data = data['FEATURE'].values\r\n",
        "label = data['LABEL'].values"
      ],
      "outputs": [],
      "metadata": {
        "id": "iG9xkQFvCnlu",
        "executionInfo": {
          "status": "ok",
          "timestamp": 1627793528463,
          "user_tz": -330,
          "elapsed": 3667,
          "user": {
            "displayName": "KUMAR SAHAB",
            "photoUrl": "",
            "userId": "11371194185235224653"
          }
        },
        "execution": {
          "iopub.status.busy": "2021-08-01T09:21:46.294259Z",
          "iopub.execute_input": "2021-08-01T09:21:46.294647Z",
          "iopub.status.idle": "2021-08-01T09:21:48.532822Z",
          "shell.execute_reply.started": "2021-08-01T09:21:46.294617Z",
          "shell.execute_reply": "2021-08-01T09:21:48.531973Z"
        },
        "trusted": true,
        "gather": {
          "logged": 1627842112326
        }
      }
    },
    {
      "cell_type": "code",
      "execution_count": null,
      "source": [
        "test_data = pd.read_pickle('data_test_pickle').values\r\n",
        "ID = pd.read_pickle('ID_test_pickle').values"
      ],
      "outputs": [],
      "metadata": {
        "id": "UrxVKotACy3_",
        "executionInfo": {
          "status": "ok",
          "timestamp": 1627793537508,
          "user_tz": -330,
          "elapsed": 6029,
          "user": {
            "displayName": "KUMAR SAHAB",
            "photoUrl": "",
            "userId": "11371194185235224653"
          }
        },
        "execution": {
          "iopub.status.busy": "2021-08-01T08:45:55.298911Z",
          "iopub.execute_input": "2021-08-01T08:45:55.299517Z",
          "iopub.status.idle": "2021-08-01T08:45:57.582701Z",
          "shell.execute_reply.started": "2021-08-01T08:45:55.299469Z",
          "shell.execute_reply": "2021-08-01T08:45:57.581628Z"
        },
        "trusted": true,
        "gather": {
          "logged": 1627842158218
        }
      }
    },
    {
      "cell_type": "code",
      "execution_count": null,
      "source": [
        "#Prediction based on k nearest neighbor\r\n",
        "k = 5\r\n",
        "result = predict(k, test_data)"
      ],
      "outputs": [],
      "metadata": {
        "id": "OUJIHttLDRxU",
        "execution": {
          "iopub.status.busy": "2021-08-01T06:22:32.895204Z",
          "iopub.execute_input": "2021-08-01T06:22:32.895573Z",
          "iopub.status.idle": "2021-08-01T06:22:34.369155Z",
          "shell.execute_reply.started": "2021-08-01T06:22:32.895543Z",
          "shell.execute_reply": "2021-08-01T06:22:34.368051Z"
        },
        "trusted": true
      }
    },
    {
      "cell_type": "code",
      "execution_count": null,
      "source": [
        "submission = pd.DataFrame({'PRODUCT_ID':ID, 'BROWSE_NODE_ID':result})\r\n",
        "submission = submission[['PRODUCT_ID', 'BROWSE_NODE_ID']]\r\n",
        "submission.to_csv(\"submission.csv\", index=False)"
      ],
      "outputs": [],
      "metadata": {
        "id": "IBhs8W0_FKLe",
        "executionInfo": {
          "status": "ok",
          "timestamp": 1627793969284,
          "user_tz": -330,
          "elapsed": 635,
          "user": {
            "displayName": "KUMAR SAHAB",
            "photoUrl": "",
            "userId": "11371194185235224653"
          }
        },
        "outputId": "c55f3652-881a-4f23-ce36-e5795ef67546",
        "execution": {
          "iopub.status.busy": "2021-08-01T06:08:46.450075Z",
          "iopub.execute_input": "2021-08-01T06:08:46.450440Z",
          "iopub.status.idle": "2021-08-01T06:08:46.456935Z",
          "shell.execute_reply.started": "2021-08-01T06:08:46.450412Z",
          "shell.execute_reply": "2021-08-01T06:08:46.456251Z"
        },
        "trusted": true
      }
    }
  ],
  "metadata": {
    "kernelspec": {
      "name": "python3",
      "display_name": "Python 3.9.6 64-bit"
    },
    "language_info": {
      "name": "python",
      "version": "3.9.6",
      "mimetype": "text/x-python",
      "codemirror_mode": {
        "name": "ipython",
        "version": 3
      },
      "pygments_lexer": "ipython3",
      "nbconvert_exporter": "python",
      "file_extension": ".py"
    },
    "kernel_info": {
      "name": "python38-azureml"
    },
    "nteract": {
      "version": "nteract-front-end@1.0.0"
    },
    "interpreter": {
      "hash": "ac59ebe37160ed0dfa835113d9b8498d9f09ceb179beaac4002f036b9467c963"
    }
  },
  "nbformat": 4,
  "nbformat_minor": 4
}