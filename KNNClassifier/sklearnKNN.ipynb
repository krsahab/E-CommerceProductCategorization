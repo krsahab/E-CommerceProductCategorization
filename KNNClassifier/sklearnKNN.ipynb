{
 "cells": [
  {
   "cell_type": "code",
   "execution_count": null,
   "source": [
    "import pandas as pd\r\n",
    "from sklearn.neighbors import KNeighborsClassifier\r\n",
    "from sklearn.feature_extraction.text import CountVectorizer"
   ],
   "outputs": [],
   "metadata": {}
  },
  {
   "cell_type": "code",
   "execution_count": null,
   "source": [
    "k = 10\r\n",
    "neigh = KNeighborsClassifier(n_neighbors=k)"
   ],
   "outputs": [],
   "metadata": {}
  },
  {
   "cell_type": "code",
   "execution_count": null,
   "source": [
    "data = pd.read_pickle('data_processed_lite.pkl')\r\n",
    "train_data = data['FEATURE'].values\r\n",
    "label = data['LABEL'].values"
   ],
   "outputs": [],
   "metadata": {}
  },
  {
   "cell_type": "code",
   "execution_count": null,
   "source": [
    "test_data = pd.read_pickle('data_test_pickle').values\r\n",
    "ID = pd.read_pickle('ID_test_pickle').values"
   ],
   "outputs": [],
   "metadata": {}
  },
  {
   "cell_type": "code",
   "execution_count": null,
   "source": [
    "count_vectorizer = CountVectorizer(tokenizer=lambda doc: doc, lowercase=False)\r\n",
    "train_data = count_vectorizer.fit_transform(train_data)"
   ],
   "outputs": [],
   "metadata": {}
  },
  {
   "cell_type": "code",
   "execution_count": null,
   "source": [
    "test_data = count_vectorizer.transform(test_data)"
   ],
   "outputs": [],
   "metadata": {}
  },
  {
   "cell_type": "code",
   "execution_count": null,
   "source": [
    "neigh.fit(train_data, label)"
   ],
   "outputs": [],
   "metadata": {}
  },
  {
   "cell_type": "code",
   "execution_count": null,
   "source": [
    "result = neigh.predict(test_data)"
   ],
   "outputs": [],
   "metadata": {}
  },
  {
   "cell_type": "code",
   "execution_count": null,
   "source": [
    "submission = pd.DataFrame({'PRODUCT_ID':ID, 'BROWSE_NODE_ID':result})\r\n",
    "submission = submission[['PRODUCT_ID', 'BROWSE_NODE_ID']]\r\n",
    "submission.to_csv(\"submission13.csv\", index=False)"
   ],
   "outputs": [],
   "metadata": {}
  }
 ],
 "metadata": {
  "orig_nbformat": 4,
  "language_info": {
   "name": "python"
  }
 },
 "nbformat": 4,
 "nbformat_minor": 2
}