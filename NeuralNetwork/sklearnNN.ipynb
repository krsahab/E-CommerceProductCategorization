{
 "cells": [
  {
   "cell_type": "code",
   "execution_count": null,
   "source": [
    "import pickle\r\n",
    "import pandas as pd\r\n",
    "from sklearn.linear_model import LogisticRegression\r\n",
    "from sklearn.feature_extraction.text import CountVectorizer\r\n",
    "from sklearn.model_selection import train_test_split\r\n",
    "from sklearn.metrics import accuracy_score, f1_score, precision_score, recall_score"
   ],
   "outputs": [],
   "metadata": {}
  },
  {
   "cell_type": "code",
   "execution_count": null,
   "source": [
    "count_vectorizer = CountVectorizer(tokenizer=lambda doc: doc, lowercase=False)"
   ],
   "outputs": [],
   "metadata": {}
  },
  {
   "cell_type": "code",
   "execution_count": null,
   "source": [
    "data = pd.read_pickle('/content/gdrive/MyDrive/Data/dataset/data_processed_lite.pkl')\r\n",
    "data_cleaned = data['FEATURE'].values\r\n",
    "label = data['LABEL'].values"
   ],
   "outputs": [],
   "metadata": {}
  },
  {
   "cell_type": "code",
   "execution_count": null,
   "source": [
    "data_cleaned = count_vectorizer.fit_transform(data_cleaned)"
   ],
   "outputs": [],
   "metadata": {}
  },
  {
   "cell_type": "code",
   "execution_count": null,
   "source": [
    "test_ratio=0.1\r\n",
    "random_st=40"
   ],
   "outputs": [],
   "metadata": {}
  },
  {
   "cell_type": "code",
   "execution_count": null,
   "source": [
    "X_train, X_test, Y_train, Y_test = train_test_split(data_cleaned, label, test_size=test_ratio, random_state=random_st)"
   ],
   "outputs": [],
   "metadata": {}
  },
  {
   "cell_type": "code",
   "execution_count": null,
   "source": [
    "clf = LogisticRegression(C=30.0, class_weight='balanced', solver='newton-cg', multi_class='multinomial', n_jobs=-1, random_state=random_st)\r\n",
    "clf.fit(X_train, Y_train)\r\n",
    "y_predicted_counts = clf.predict(X_test)"
   ],
   "outputs": [],
   "metadata": {}
  },
  {
   "cell_type": "code",
   "execution_count": null,
   "source": [
    "def get_metrics(y_test, y_predicted):  \r\n",
    "    precision = precision_score(y_test, y_predicted, pos_label=None, average='weighted')             \r\n",
    "    recall = recall_score(y_test, y_predicted, pos_label=None, average='weighted')\r\n",
    "    f1 = f1_score(y_test, y_predicted, pos_label=None, average='weighted')\r\n",
    "    accuracy = accuracy_score(y_test, y_predicted)\r\n",
    "    return accuracy, precision, recall, f1"
   ],
   "outputs": [],
   "metadata": {}
  },
  {
   "cell_type": "code",
   "execution_count": null,
   "source": [
    "accuracy, precision, recall, f1 = get_metrics(Y_test, y_predicted_counts)\r\n",
    "print(\"accuracy = %.3f, precision = %.3f, recall = %.3f, f1 = %.3f\" % (accuracy, precision, recall, f1))"
   ],
   "outputs": [],
   "metadata": {}
  },
  {
   "cell_type": "code",
   "execution_count": null,
   "source": [
    "filename = 'finalized_model.sav'\r\n",
    "pickle.dump(clf, open(filename, 'wb'))"
   ],
   "outputs": [],
   "metadata": {}
  },
  {
   "cell_type": "code",
   "execution_count": null,
   "source": [
    "loaded_model = pickle.load(open(filename, 'rb'))\r\n",
    "result = loaded_model.score(X_test, Y_test)"
   ],
   "outputs": [],
   "metadata": {}
  },
  {
   "cell_type": "code",
   "execution_count": null,
   "source": [
    "test_data = pd.read_pickle('data_test_pickle')\r\n",
    "ID = pd.read_pickle('ID_test_pickle')"
   ],
   "outputs": [],
   "metadata": {}
  },
  {
   "cell_type": "code",
   "execution_count": null,
   "source": [
    "test_data = count_vectorizer.transform(test_data.values)"
   ],
   "outputs": [],
   "metadata": {}
  },
  {
   "cell_type": "code",
   "execution_count": null,
   "source": [
    "y_predicted_counts = clf.predict(test_data)"
   ],
   "outputs": [],
   "metadata": {}
  },
  {
   "cell_type": "code",
   "execution_count": null,
   "source": [
    "submission = pd.DataFrame({'PRODUCT_ID':ID, 'BROWSE_NODE_ID':y_predicted_counts})\r\n",
    "submission = submission[['PRODUCT_ID', 'BROWSE_NODE_ID']]\r\n",
    "submission.to_csv(\"submission.csv\", index=False)"
   ],
   "outputs": [],
   "metadata": {}
  }
 ],
 "metadata": {
  "orig_nbformat": 4,
  "language_info": {
   "name": "python"
  }
 },
 "nbformat": 4,
 "nbformat_minor": 2
}